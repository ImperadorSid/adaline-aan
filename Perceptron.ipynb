{
 "cells": [
  {
   "cell_type": "code",
   "execution_count": 167,
   "metadata": {},
   "outputs": [],
   "source": [
    "import numpy as np\n",
    "import pandas as pd"
   ]
  },
  {
   "cell_type": "code",
   "execution_count": 261,
   "metadata": {},
   "outputs": [],
   "source": [
    "signal = lambda number: 1 if number >= 0 else -1"
   ]
  },
  {
   "cell_type": "code",
   "execution_count": 262,
   "metadata": {},
   "outputs": [],
   "source": [
    "test_perceptron = lambda x, w: [signal(w @ sample) for sample in x]"
   ]
  },
  {
   "cell_type": "code",
   "execution_count": 315,
   "metadata": {},
   "outputs": [],
   "source": [
    "def train_perceptron(x, d, n=0.5, w=[]):\n",
    "  samples = d.shape[0]\n",
    "  inputs = x.shape[1]\n",
    "  epochs = 0\n",
    "\n",
    "  if w == []: w = np.random.random([1, inputs])\n",
    "  print(w)\n",
    "\n",
    "  while True:\n",
    "    error = False\n",
    "    epochs += 1\n",
    "    \n",
    "    for i in range(samples):\n",
    "      u = w @ x[i]\n",
    "      y = signal(u)\n",
    "      if y != d[i]:\n",
    "        w += n * (d[i] - y) * x[i]\n",
    "        error = True\n",
    "\n",
    "    if not error: break\n",
    "    \n",
    "  return w, epochs"
   ]
  },
  {
   "cell_type": "code",
   "execution_count": 233,
   "metadata": {},
   "outputs": [],
   "source": [
    "#x = np.array([[-1,0.1,0.4,0.7],\n",
    "#               [-1,0.3,0.7,0.2],\n",
    "#               [-1,0.6,0.9,0.8],\n",
    "#               [-1,0.5,0.r7,0.1]])\n",
    "# d = np.array([1,-1,-1,1])\n",
    "# w = np.array([0.0,0.0,0.0,0.0])"
   ]
  },
  {
   "cell_type": "code",
   "execution_count": 275,
   "metadata": {},
   "outputs": [],
   "source": [
    "df = pd.read_excel('petroleo.xls')\n",
    "df.insert(0, 'x0', -1)\n",
    "\n",
    "x = df.drop('d', axis=1).to_numpy()\n",
    "d = df['d'].to_numpy()"
   ]
  },
  {
   "cell_type": "code",
   "execution_count": 343,
   "metadata": {},
   "outputs": [
    {
     "data": {
      "text/plain": [
       "0    1\n",
       "1   -1\n",
       "2   -1\n",
       "3    1\n",
       "Name: d, dtype: int64"
      ]
     },
     "execution_count": 343,
     "metadata": {},
     "output_type": "execute_result"
    }
   ],
   "source": [
    "df = pd.read_csv('../Datasets/ivan1.csv')\n",
    "df.drop('d', axis=1)\n",
    "df['d']"
   ]
  },
  {
   "cell_type": "code",
   "execution_count": 323,
   "metadata": {},
   "outputs": [
    {
     "name": "stdout",
     "output_type": "stream",
     "text": [
      "[[0.21961598 0.98543096 0.60700017 0.79686978]]\n"
     ]
    },
    {
     "data": {
      "text/plain": [
       "(array([[-3.10038402,  1.57554696,  2.49902817, -0.73893222]]), 421)"
      ]
     },
     "execution_count": 323,
     "metadata": {},
     "output_type": "execute_result"
    }
   ],
   "source": [
    "train_perceptron(x, d, n=0.01)"
   ]
  }
 ],
 "metadata": {
  "kernelspec": {
   "display_name": "Python 3",
   "language": "python",
   "name": "python3"
  },
  "language_info": {
   "codemirror_mode": {
    "name": "ipython",
    "version": 3
   },
   "file_extension": ".py",
   "mimetype": "text/x-python",
   "name": "python",
   "nbconvert_exporter": "python",
   "pygments_lexer": "ipython3",
   "version": "3.7.3"
  }
 },
 "nbformat": 4,
 "nbformat_minor": 4
}
