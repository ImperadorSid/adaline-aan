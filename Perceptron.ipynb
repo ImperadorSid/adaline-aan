{
 "cells": [
  {
   "cell_type": "code",
   "execution_count": 3,
   "metadata": {},
   "outputs": [],
   "source": [
    "import numpy as np\n",
    "import pandas as pd\n",
    "from load_file import load_csv"
   ]
  },
  {
   "cell_type": "code",
   "execution_count": 4,
   "metadata": {},
   "outputs": [],
   "source": [
    "signal = lambda number: 1 if number >= 0 else -1"
   ]
  },
  {
   "cell_type": "code",
   "execution_count": 5,
   "metadata": {},
   "outputs": [],
   "source": [
    "test_perceptron = lambda x, w: [signal(w @ sample) for sample in x]"
   ]
  },
  {
   "cell_type": "code",
   "execution_count": 22,
   "metadata": {},
   "outputs": [],
   "source": [
    "def train_perceptron(x, d, n=0.5, w=[]):\n",
    "  samples = d.shape[0]\n",
    "  inputs = x.shape[1]\n",
    "  epochs = 0\n",
    "\n",
    "  if w == []: w = np.random.random([1, inputs])\n",
    "  print(w)\n",
    "\n",
    "  while True:\n",
    "    error = False\n",
    "    epochs += 1\n",
    "    \n",
    "    for i in range(samples):\n",
    "      u = w @ x[i]\n",
    "      y = signal(u)\n",
    "      if y != d[i]:\n",
    "        w += n * (d[i] - y) * x[i]\n",
    "        error = True\n",
    "        \n",
    "    if not error: break\n",
    "      \n",
    "  return w, epochs"
   ]
  },
  {
   "cell_type": "code",
   "execution_count": null,
   "metadata": {},
   "outputs": [],
   "source": [
    "x, d = load_csv('../../datasets/petroleo.csv')\n",
    "print(x, d)"
   ]
  },
  {
   "cell_type": "code",
   "execution_count": 55,
   "metadata": {},
   "outputs": [
    {
     "name": "stdout",
     "output_type": "stream",
     "text": [
      "[[0.98933559 0.83869909 0.33453334 0.91010322]]\n"
     ]
    },
    {
     "data": {
      "text/plain": [
       "(array([[-3.07066441,  1.53032909,  2.46462534, -0.72922278]]), 419)"
      ]
     },
     "execution_count": 55,
     "metadata": {},
     "output_type": "execute_result"
    }
   ],
   "source": [
    "train_perceptron(x, d, n=.01)"
   ]
  }
 ],
 "metadata": {
  "kernelspec": {
   "display_name": "Python 3",
   "language": "python",
   "name": "python3"
  },
  "language_info": {
   "codemirror_mode": {
    "name": "ipython",
    "version": 3
   },
   "file_extension": ".py",
   "mimetype": "text/x-python",
   "name": "python",
   "nbconvert_exporter": "python",
   "pygments_lexer": "ipython3",
   "version": "3.7.4"
  }
 },
 "nbformat": 4,
 "nbformat_minor": 4
}
