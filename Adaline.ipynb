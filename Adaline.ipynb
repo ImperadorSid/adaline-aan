{
 "cells": [
  {
   "cell_type": "code",
   "execution_count": 1,
   "metadata": {},
   "outputs": [],
   "source": [
    "import numpy as np\n",
    "import pandas as pd\n",
    "import matplotlib.pyplot as plt\n",
    "from load_file import load_csv"
   ]
  },
  {
   "cell_type": "markdown",
   "metadata": {},
   "source": [
    "[load_file](https://github.com/ImperadorSid/dotfiles/blob/master/.python-scripts/load_file.py)"
   ]
  },
  {
   "cell_type": "code",
   "execution_count": 2,
   "metadata": {},
   "outputs": [],
   "source": [
    "signal = lambda number: 1 if number >= 0 else -1"
   ]
  },
  {
   "cell_type": "code",
   "execution_count": 3,
   "metadata": {},
   "outputs": [],
   "source": [
    "test_adaline = lambda x, w: np.array([signal(w @ sample) for sample in x])"
   ]
  },
  {
   "cell_type": "code",
   "execution_count": 4,
   "metadata": {},
   "outputs": [],
   "source": [
    "calc_mse = lambda x, d, w: sum([(d[i] - w @ x[i]) ** 2  for i in range(d.shape[0])]) / d.shape[0]"
   ]
  },
  {
   "cell_type": "code",
   "execution_count": 5,
   "metadata": {},
   "outputs": [],
   "source": [
    "def train_adaline(x, d, n=10**-2, e=10**-6, w=[]):\n",
    "  samples = x.shape[0]\n",
    "  inputs = x.shape[1]\n",
    "  epochs = 0\n",
    "  mses = []\n",
    "  \n",
    "  if w == []:\n",
    "    w = np.random.random([1, inputs])\n",
    "  initial_w = np.copy(w)\n",
    "\n",
    "  while True:\n",
    "    epochs += 1\n",
    "    \n",
    "    last_mse = calc_mse(x, d, w)\n",
    "    for i in range(samples):\n",
    "      u = w @ x[i]\n",
    "      w += n * (d[i] - u) * x[i]\n",
    "    current_mse = calc_mse(x, d, w)\n",
    "    \n",
    "    mses.append(current_mse)\n",
    "        \n",
    "    if abs(current_mse - last_mse) <= e: break\n",
    "      \n",
    "  return initial_w, w, mses, epochs"
   ]
  },
  {
   "cell_type": "code",
   "execution_count": 6,
   "metadata": {},
   "outputs": [],
   "source": [
    "x, d = load_csv('../../datasets/valvula.csv')\n",
    "df_d = pd.Series(d, name='d')"
   ]
  },
  {
   "cell_type": "code",
   "execution_count": 27,
   "metadata": {
    "scrolled": true
   },
   "outputs": [
    {
     "name": "stdout",
     "output_type": "stream",
     "text": [
      "Training 1 - 936 epochs\n",
      "Initial weights: [[0.90571748 0.65867223 0.75456987 0.90156977 0.69926524]]\n",
      "Weights: [[-1.8130467   1.31293707  1.6423697  -0.4275088  -1.17781414]]\n",
      "\n",
      "Training 2 - 948 epochs\n",
      "Initial weights: [[0.9714914  0.00909959 0.130616   0.77407123 0.38398537]]\n",
      "Weights: [[-1.81308031  1.3129035   1.64233761 -0.42761031 -1.1777979 ]]\n",
      "\n",
      "Training 3 - 900 epochs\n",
      "Initial weights: [[0.1702971  0.56649978 0.2332528  0.55256929 0.53477038]]\n",
      "Weights: [[-1.81312369  1.31287997  1.64232103 -0.42770207 -1.1777913 ]]\n",
      "\n",
      "Training 4 - 929 epochs\n",
      "Initial weights: [[0.76003652 0.2278381  0.50058973 0.93471115 0.0746207 ]]\n",
      "Weights: [[-1.81303297  1.3129248   1.6423502  -0.42751887 -1.17780193]]\n",
      "\n",
      "Training 5 - 913 epochs\n",
      "Initial weights: [[0.76670242 0.50714517 0.89828097 0.81945791 0.01682922]]\n",
      "Weights: [[-1.81303103  1.31294201  1.64237123 -0.4274827  -1.17781395]]\n",
      "\n"
     ]
    },
    {
     "data": {
      "image/png": "[encoded data removed]",
      "text/plain": [
       "<Figure size 432x288 with 1 Axes>"
      ]
     },
     "metadata": {
      "needs_background": "light"
     },
     "output_type": "display_data"
    }
   ],
   "source": [
    "for i in range(1, 6):\n",
    "  initial_w, w, errors, epochs = train_adaline(x, d, n=.0025, e=10**-6)\n",
    "  print('Training {} - {} epochs\\nInitial weights: {}\\nWeights: {}\\n'.format(i, epochs, initial_w, w))\n",
    "  plt.plot(range(epochs), errors, label='Training {}'.format(i))\n",
    "  plt.legend()\n",
    "plt.show()"
   ]
  },
  {
   "cell_type": "code",
   "execution_count": 14,
   "metadata": {},
   "outputs": [
    {
     "data": {
      "text/plain": [
       "array([[-1.    ,  0.9694,  0.6909,  0.4334,  3.4965],\n",
       "       [-1.    ,  0.5427,  1.3832,  0.639 ,  4.0352],\n",
       "       [-1.    ,  0.6081, -0.9196,  0.5925,  0.1016],\n",
       "       [-1.    , -0.1618,  0.4694,  0.203 ,  3.0117],\n",
       "       [-1.    ,  0.187 , -0.2578,  0.6124,  1.7749],\n",
       "       [-1.    ,  0.4891, -0.5276,  0.4378,  0.6439],\n",
       "       [-1.    ,  0.3777,  2.0149,  0.7423,  3.3932],\n",
       "       [-1.    ,  1.1498, -0.4067,  0.2469,  1.5866],\n",
       "       [-1.    ,  0.9325,  1.095 ,  1.0359,  3.3591],\n",
       "       [-1.    ,  0.506 ,  1.3317,  0.9222,  3.7174],\n",
       "       [-1.    ,  0.0497, -2.0656,  0.6124, -0.6585],\n",
       "       [-1.    ,  0.4004,  3.5369,  0.9766,  5.3532],\n",
       "       [-1.    , -0.1874,  1.3343,  0.5374,  3.2189],\n",
       "       [-1.    ,  0.506 ,  1.3317,  0.9222,  3.7174],\n",
       "       [-1.    ,  1.6375, -0.7911,  0.7537,  0.5515]])"
      ]
     },
     "execution_count": 14,
     "metadata": {},
     "output_type": "execute_result"
    }
   ],
   "source": [
    "inputs = pd.read_csv('../../datasets/valvula2.csv').to_numpy()\n",
    "inputs"
   ]
  },
  {
   "cell_type": "markdown",
   "metadata": {},
   "source": [
    "[valvula2.csv](https://github.com/ImperadorSid/datasets/blob/master/valvula2.csv)"
   ]
  },
  {
   "cell_type": "code",
   "execution_count": 9,
   "metadata": {},
   "outputs": [],
   "source": [
    "trained_weights = np.array([[-1.8130467,1.31293707,1.6423697,-0.4275088,-1.17781414],\n",
    "[-1.81308031,1.3129035,1.64233761,-0.42761031,-1.1777979],\n",
    "[-1.81312369,1.31287997,1.64232103,-0.42770207,-1.1777913],\n",
    "[-1.81303297,1.3129248,1.6423502,-0.42751887,-1.17780193],\n",
    "[-1.81303103,1.31294201,1.64237123,-0.4274827,-1.17781395]])"
   ]
  },
  {
   "cell_type": "code",
   "execution_count": 15,
   "metadata": {},
   "outputs": [
    {
     "data": {
      "text/html": [
       "<div>\n",
       "<style scoped>\n",
       "    .dataframe tbody tr th:only-of-type {\n",
       "        vertical-align: middle;\n",
       "    }\n",
       "\n",
       "    .dataframe tbody tr th {\n",
       "        vertical-align: top;\n",
       "    }\n",
       "\n",
       "    .dataframe thead th {\n",
       "        text-align: right;\n",
       "    }\n",
       "</style>\n",
       "<table border=\"1\" class=\"dataframe\">\n",
       "  <thead>\n",
       "    <tr style=\"text-align: right;\">\n",
       "      <th></th>\n",
       "      <th>y1</th>\n",
       "      <th>y2</th>\n",
       "      <th>y3</th>\n",
       "      <th>y4</th>\n",
       "      <th>y5</th>\n",
       "    </tr>\n",
       "  </thead>\n",
       "  <tbody>\n",
       "    <tr>\n",
       "      <td>0</td>\n",
       "      <td>-1</td>\n",
       "      <td>-1</td>\n",
       "      <td>-1</td>\n",
       "      <td>-1</td>\n",
       "      <td>-1</td>\n",
       "    </tr>\n",
       "    <tr>\n",
       "      <td>1</td>\n",
       "      <td>-1</td>\n",
       "      <td>-1</td>\n",
       "      <td>-1</td>\n",
       "      <td>-1</td>\n",
       "      <td>-1</td>\n",
       "    </tr>\n",
       "    <tr>\n",
       "      <td>2</td>\n",
       "      <td>1</td>\n",
       "      <td>1</td>\n",
       "      <td>1</td>\n",
       "      <td>1</td>\n",
       "      <td>1</td>\n",
       "    </tr>\n",
       "    <tr>\n",
       "      <td>3</td>\n",
       "      <td>-1</td>\n",
       "      <td>-1</td>\n",
       "      <td>-1</td>\n",
       "      <td>-1</td>\n",
       "      <td>-1</td>\n",
       "    </tr>\n",
       "    <tr>\n",
       "      <td>4</td>\n",
       "      <td>-1</td>\n",
       "      <td>-1</td>\n",
       "      <td>-1</td>\n",
       "      <td>-1</td>\n",
       "      <td>-1</td>\n",
       "    </tr>\n",
       "    <tr>\n",
       "      <td>5</td>\n",
       "      <td>1</td>\n",
       "      <td>1</td>\n",
       "      <td>1</td>\n",
       "      <td>1</td>\n",
       "      <td>1</td>\n",
       "    </tr>\n",
       "    <tr>\n",
       "      <td>6</td>\n",
       "      <td>1</td>\n",
       "      <td>1</td>\n",
       "      <td>1</td>\n",
       "      <td>1</td>\n",
       "      <td>1</td>\n",
       "    </tr>\n",
       "    <tr>\n",
       "      <td>7</td>\n",
       "      <td>1</td>\n",
       "      <td>1</td>\n",
       "      <td>1</td>\n",
       "      <td>1</td>\n",
       "      <td>1</td>\n",
       "    </tr>\n",
       "    <tr>\n",
       "      <td>8</td>\n",
       "      <td>1</td>\n",
       "      <td>1</td>\n",
       "      <td>1</td>\n",
       "      <td>1</td>\n",
       "      <td>1</td>\n",
       "    </tr>\n",
       "    <tr>\n",
       "      <td>9</td>\n",
       "      <td>-1</td>\n",
       "      <td>-1</td>\n",
       "      <td>-1</td>\n",
       "      <td>-1</td>\n",
       "      <td>-1</td>\n",
       "    </tr>\n",
       "    <tr>\n",
       "      <td>10</td>\n",
       "      <td>-1</td>\n",
       "      <td>-1</td>\n",
       "      <td>-1</td>\n",
       "      <td>-1</td>\n",
       "      <td>-1</td>\n",
       "    </tr>\n",
       "    <tr>\n",
       "      <td>11</td>\n",
       "      <td>1</td>\n",
       "      <td>1</td>\n",
       "      <td>1</td>\n",
       "      <td>1</td>\n",
       "      <td>1</td>\n",
       "    </tr>\n",
       "    <tr>\n",
       "      <td>12</td>\n",
       "      <td>-1</td>\n",
       "      <td>-1</td>\n",
       "      <td>-1</td>\n",
       "      <td>-1</td>\n",
       "      <td>-1</td>\n",
       "    </tr>\n",
       "    <tr>\n",
       "      <td>13</td>\n",
       "      <td>-1</td>\n",
       "      <td>-1</td>\n",
       "      <td>-1</td>\n",
       "      <td>-1</td>\n",
       "      <td>-1</td>\n",
       "    </tr>\n",
       "    <tr>\n",
       "      <td>14</td>\n",
       "      <td>1</td>\n",
       "      <td>1</td>\n",
       "      <td>1</td>\n",
       "      <td>1</td>\n",
       "      <td>1</td>\n",
       "    </tr>\n",
       "  </tbody>\n",
       "</table>\n",
       "</div>"
      ],
      "text/plain": [
       "    y1  y2  y3  y4  y5\n",
       "0   -1  -1  -1  -1  -1\n",
       "1   -1  -1  -1  -1  -1\n",
       "2    1   1   1   1   1\n",
       "3   -1  -1  -1  -1  -1\n",
       "4   -1  -1  -1  -1  -1\n",
       "5    1   1   1   1   1\n",
       "6    1   1   1   1   1\n",
       "7    1   1   1   1   1\n",
       "8    1   1   1   1   1\n",
       "9   -1  -1  -1  -1  -1\n",
       "10  -1  -1  -1  -1  -1\n",
       "11   1   1   1   1   1\n",
       "12  -1  -1  -1  -1  -1\n",
       "13  -1  -1  -1  -1  -1\n",
       "14   1   1   1   1   1"
      ]
     },
     "execution_count": 15,
     "metadata": {},
     "output_type": "execute_result"
    }
   ],
   "source": [
    "results = pd.DataFrame(\n",
    "  {'y' + str(i + 1):\n",
    "   test_adaline(inputs, trained_weights[i])\n",
    "   for i in range(5)}\n",
    ")\n",
    "results"
   ]
  }
 ],
 "metadata": {
  "kernelspec": {
   "display_name": "Python 3",
   "language": "python",
   "name": "python3"
  },
  "language_info": {
   "codemirror_mode": {
    "name": "ipython",
    "version": 3
   },
   "file_extension": ".py",
   "mimetype": "text/x-python",
   "name": "python",
   "nbconvert_exporter": "python",
   "pygments_lexer": "ipython3",
   "version": "3.7.4"
  }
 },
 "nbformat": 4,
 "nbformat_minor": 4
}
