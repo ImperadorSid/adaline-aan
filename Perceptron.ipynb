{
 "cells": [
  {
   "cell_type": "code",
   "execution_count": 3,
   "metadata": {},
   "outputs": [],
   "source": [
    "import numpy as np\n",
    "import pandas as pd\n",
    "from load_file import load_csv"
   ]
  },
  {
   "cell_type": "code",
   "execution_count": 4,
   "metadata": {},
   "outputs": [],
   "source": [
    "signal = lambda number: 1 if number >= 0 else -1"
   ]
  },
  {
   "cell_type": "code",
   "execution_count": 5,
   "metadata": {},
   "outputs": [],
   "source": [
    "test_perceptron = lambda x, w: [signal(w @ sample) for sample in x]"
   ]
  },
  {
   "cell_type": "code",
   "execution_count": 59,
   "metadata": {},
   "outputs": [],
   "source": [
    "def train_perceptron(x, d, n=0.5, w=[]):\n",
    "  samples = d.shape[0]\n",
    "  inputs = x.shape[1]\n",
    "  epochs = 0\n",
    "\n",
    "  if w == []: w = np.random.random([1, inputs])\n",
    "\n",
    "  while True:\n",
    "    error = False\n",
    "    epochs += 1\n",
    "    \n",
    "    for i in range(samples):\n",
    "      u = w @ x[i]\n",
    "      y = signal(u)\n",
    "      if y != d[i]:\n",
    "        w += n * (d[i] - y) * x[i]\n",
    "        error = True\n",
    "        \n",
    "    if not error: break\n",
    "      \n",
    "  return w, epochs"
   ]
  },
  {
   "cell_type": "code",
   "execution_count": null,
   "metadata": {},
   "outputs": [],
   "source": [
    "x, d = load_csv('../../datasets/petroleo.csv')\n",
    "print(x, d)"
   ]
  },
  {
   "cell_type": "markdown",
   "metadata": {},
   "source": [
    "Download the datasets [here](https://github.com/ImperadorSid/datasets)"
   ]
  },
  {
   "cell_type": "code",
   "execution_count": 60,
   "metadata": {},
   "outputs": [
    {
     "name": "stdout",
     "output_type": "stream",
     "text": [
      "Training 1 - 391 epochs - Weights: [[-3.04087117  1.55652115  2.4473602  -0.72582597]]\n",
      "Training 2 - 385 epochs - Weights: [[-3.03413667  1.51650897  2.45327209 -0.72327066]]\n",
      "Training 3 - 467 epochs - Weights: [[-3.15885633  1.63047604  2.54222488 -0.75156417]]\n",
      "Training 4 - 461 epochs - Weights: [[-3.13160348  1.62545971  2.53781976 -0.74855502]]\n",
      "Training 5 - 394 epochs - Weights: [[-3.06133841  1.53484263  2.46407093 -0.72834291]]\n"
     ]
    }
   ],
   "source": [
    "for i in range(1, 6):\n",
    "  w, epochs = train_perceptron(x, d, n=.01)\n",
    "  print('Training {} - {} epochs - Weights: {}'.format(i, epochs, w))"
   ]
  }
 ],
 "metadata": {
  "kernelspec": {
   "display_name": "Python 3",
   "language": "python",
   "name": "python3"
  },
  "language_info": {
   "codemirror_mode": {
    "name": "ipython",
    "version": 3
   },
   "file_extension": ".py",
   "mimetype": "text/x-python",
   "name": "python",
   "nbconvert_exporter": "python",
   "pygments_lexer": "ipython3",
   "version": "3.7.4"
  }
 },
 "nbformat": 4,
 "nbformat_minor": 4
}
