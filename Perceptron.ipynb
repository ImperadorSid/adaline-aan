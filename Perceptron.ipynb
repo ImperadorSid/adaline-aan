{
 "cells": [
  {
   "cell_type": "code",
   "execution_count": 2,
   "metadata": {},
   "outputs": [],
   "source": [
    "import numpy as np\n",
    "import pandas as pd\n",
    "from load_file import load_csv"
   ]
  },
  {
   "cell_type": "code",
   "execution_count": 3,
   "metadata": {},
   "outputs": [],
   "source": [
    "signal = lambda number: 1 if number >= 0 else -1"
   ]
  },
  {
   "cell_type": "code",
   "execution_count": 4,
   "metadata": {},
   "outputs": [],
   "source": [
    "test_perceptron = lambda x, w: [signal(w @ sample) for sample in x]"
   ]
  },
  {
   "cell_type": "code",
   "execution_count": 10,
   "metadata": {},
   "outputs": [],
   "source": [
    "def train_perceptron(x, d, n=0.5, w=[]):\n",
    "  samples = d.shape[0]\n",
    "  inputs = x.shape[1]\n",
    "  epochs = 0\n",
    "\n",
    "  if w == []: w = np.random.random([1, inputs])\n",
    "  print(w)\n",
    "\n",
    "  while True:\n",
    "    error = False\n",
    "    epochs += 1\n",
    "    \n",
    "    for i in range(samples):\n",
    "      u = w @ x[i]\n",
    "      y = signal(u)\n",
    "      if y != d[i]:\n",
    "        w += n * (d[i] - y) * x[i]\n",
    "        error = True\n",
    "    print('faiou')\n",
    "    if not error: break\n",
    "    \n",
    "  return w, epochs"
   ]
  },
  {
   "cell_type": "code",
   "execution_count": 21,
   "metadata": {},
   "outputs": [
    {
     "name": "stdout",
     "output_type": "stream",
     "text": [
      "[[-0.6508  0.1097  4.0009]\n",
      " [-1.4492  0.8896  4.4005]\n",
      " [ 2.085   0.6876 12.071 ]\n",
      " [ 0.2626  1.1476  7.7985]\n",
      " [ 0.6418  1.0234  7.0427]\n",
      " [ 0.2569  0.673   8.3265]\n",
      " [ 1.1155  0.6043  7.4446]\n",
      " [ 0.0914  0.3399  7.0677]\n",
      " [ 0.0121  0.5256  4.6316]\n",
      " [-0.0429  0.466   5.4323]\n",
      " [ 0.434   0.687   8.2287]\n",
      " [ 0.2735  1.0287  7.1934]\n",
      " [ 0.4839  0.4851  7.485 ]\n",
      " [ 0.4089 -0.1267  5.5019]\n",
      " [ 1.4391  0.1614  8.5843]\n",
      " [-0.9115 -0.1973  2.1962]\n",
      " [ 0.3654  1.0475  7.4858]\n",
      " [ 0.2144  0.7515  7.1699]\n",
      " [ 0.2013  1.0014  6.5489]\n",
      " [ 0.6483  0.2183  5.8991]\n",
      " [-0.1147  0.2242  7.2435]\n",
      " [-0.797   0.8795  3.8762]\n",
      " [-1.0625  0.6366  2.4707]\n",
      " [ 0.5307  0.1285  5.6883]\n",
      " [-1.22    0.7777  1.7252]\n",
      " [ 0.3957  0.1076  5.6623]\n",
      " [-0.1013  0.5989  7.1812]\n",
      " [ 2.4482  0.9455 11.2095]\n",
      " [ 2.0149  0.6192 10.9263]\n",
      " [ 0.2012  0.2611  5.4631]] [-1. -1. -1.  1.  1. -1.  1. -1.  1.  1. -1.  1. -1. -1. -1. -1.  1.  1.\n",
      "  1.  1. -1.  1.  1.  1.  1. -1. -1.  1. -1.  1.]\n"
     ]
    }
   ],
   "source": [
    "x, d = load_csv('../../datasets/petroleo.csv')\n",
    "print(x, d)"
   ]
  },
  {
   "cell_type": "code",
   "execution_count": null,
   "metadata": {},
   "outputs": [],
   "source": [
    "train_perceptron(x, d, n=0.01)"
   ]
  }
 ],
 "metadata": {
  "kernelspec": {
   "display_name": "Python 3",
   "language": "python",
   "name": "python3"
  }
 },
 "nbformat": 4,
 "nbformat_minor": 4
}
