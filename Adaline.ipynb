{
 "cells": [
  {
   "cell_type": "code",
   "execution_count": 1,
   "metadata": {},
   "outputs": [],
   "source": [
    "import numpy as np\n",
    "import pandas as pd\n",
    "from load_file import load_csv\n",
    "from sklearn.metrics import mean_squared_error"
   ]
  },
  {
   "cell_type": "code",
   "execution_count": 2,
   "metadata": {},
   "outputs": [],
   "source": [
    "signal = lambda number: 1 if number >= 0 else -1"
   ]
  },
  {
   "cell_type": "code",
   "execution_count": 3,
   "metadata": {},
   "outputs": [],
   "source": [
    "test_adaline = lambda x, w: np.array([signal(w @ sample) for sample in x])"
   ]
  },
  {
   "cell_type": "code",
   "execution_count": 4,
   "metadata": {},
   "outputs": [],
   "source": [
    "calc_mse = lambda x, d, w: sum([(d[i] - w @ x[i]) ** 2  for i in range(d.shape[0])])"
   ]
  },
  {
   "cell_type": "code",
   "execution_count": 145,
   "metadata": {},
   "outputs": [],
   "source": [
    "def calc_mse(x, d, w):\n",
    "  mse = 0\n",
    "  p = d.shape[0]\n",
    "  \n",
    "  for i in range(p):\n",
    "    u = w @ x[i]\n",
    "    mse += (d[i] - u) ** 2\n",
    "    \n",
    "  return mse / p"
   ]
  },
  {
   "cell_type": "code",
   "execution_count": 5,
   "metadata": {},
   "outputs": [],
   "source": [
    "def train_adaline(x, d, n=0.01, e=10**-3, w=[]):\n",
    "  samples = d.shape[0]\n",
    "  inputs = x.shape[1]\n",
    "  epochs = 0\n",
    "  \n",
    "  if w == []:\n",
    "    w = np.random.random([1, inputs])\n",
    "  initial_w = np.copy(w)\n",
    "\n",
    "  while True:\n",
    "    epochs += 1\n",
    "    \n",
    "    last_mse = calc_mse(x, d, w)\n",
    "    for i in range(samples):\n",
    "      u = w @ x[i]\n",
    "      w += n * (d[i] - u) * x[i]\n",
    "    current_mse = calc_mse(x, d, w)\n",
    "        \n",
    "    if abs(current_mse - last_mse) <= e: break\n",
    "      \n",
    "  return initial_w, w, epochs"
   ]
  },
  {
   "cell_type": "code",
   "execution_count": 19,
   "metadata": {},
   "outputs": [
    {
     "data": {
      "text/plain": [
       "array([[-1.0000e+00,  4.3290e-01, -1.3719e+00,  7.0220e-01, -8.5350e-01],\n",
       "       [-1.0000e+00,  3.0240e-01,  2.2860e-01,  8.6300e-01,  2.7909e+00],\n",
       "       [-1.0000e+00,  1.3490e-01, -6.4450e-01,  1.0530e+00,  5.6870e-01],\n",
       "       [-1.0000e+00,  3.3740e-01, -1.7163e+00,  3.6700e-01, -6.2830e-01],\n",
       "       [-1.0000e+00,  1.1434e+00, -4.8500e-02,  6.6370e-01,  1.2606e+00],\n",
       "       [-1.0000e+00,  1.3749e+00, -5.0710e-01,  4.4640e-01,  1.3009e+00],\n",
       "       [-1.0000e+00,  7.2210e-01, -7.5870e-01,  7.6810e-01, -5.5920e-01],\n",
       "       [-1.0000e+00,  4.4030e-01, -8.0720e-01,  5.1540e-01, -3.1290e-01],\n",
       "       [-1.0000e+00, -5.2310e-01,  3.5480e-01,  2.5380e-01,  1.5776e+00],\n",
       "       [-1.0000e+00,  3.2550e-01, -2.0000e+00,  7.1120e-01, -1.1209e+00],\n",
       "       [-1.0000e+00,  5.8240e-01,  1.3915e+00, -2.2910e-01,  4.1735e+00],\n",
       "       [-1.0000e+00,  1.3400e-01,  6.0810e-01,  4.4500e-01,  3.2230e+00],\n",
       "       [-1.0000e+00,  1.4800e-01, -2.9880e-01,  4.7780e-01,  8.6490e-01],\n",
       "       [-1.0000e+00,  7.3590e-01,  1.8690e-01, -8.7200e-02,  2.3584e+00],\n",
       "       [-1.0000e+00,  7.1150e-01, -1.1469e+00,  3.3940e-01,  9.5730e-01],\n",
       "       [-1.0000e+00,  8.2510e-01, -1.2840e+00,  8.4520e-01,  1.2382e+00],\n",
       "       [-1.0000e+00,  1.5690e-01,  3.7120e-01,  8.8250e-01,  1.7633e+00],\n",
       "       [-1.0000e+00,  3.3000e-03,  6.8350e-01,  5.3890e-01,  2.8249e+00],\n",
       "       [-1.0000e+00,  4.2430e-01,  8.3130e-01,  2.6340e-01,  3.5855e+00],\n",
       "       [-1.0000e+00,  1.0490e+00,  1.3260e-01,  9.1380e-01,  1.9792e+00],\n",
       "       [-1.0000e+00,  1.4276e+00,  5.3310e-01, -1.4500e-02,  3.7286e+00],\n",
       "       [-1.0000e+00,  5.9710e-01,  1.4865e+00,  2.9040e-01,  4.6069e+00],\n",
       "       [-1.0000e+00,  8.4750e-01,  2.1479e+00,  3.1790e-01,  5.8235e+00],\n",
       "       [-1.0000e+00,  1.3967e+00, -4.1710e-01,  6.4430e-01,  1.3927e+00],\n",
       "       [-1.0000e+00,  4.4000e-03,  1.5378e+00,  6.0990e-01,  4.7755e+00],\n",
       "       [-1.0000e+00,  2.2010e-01, -5.6680e-01,  5.1500e-02,  7.8290e-01],\n",
       "       [-1.0000e+00,  6.3000e-01, -1.2480e+00,  8.5910e-01,  8.0930e-01],\n",
       "       [-1.0000e+00, -2.4790e-01,  8.9600e-01,  5.4700e-02,  1.7381e+00],\n",
       "       [-1.0000e+00, -3.0880e-01, -9.2900e-02,  8.6590e-01,  1.5483e+00],\n",
       "       [-1.0000e+00, -5.1800e-01,  1.4974e+00,  5.4530e-01,  2.3993e+00],\n",
       "       [-1.0000e+00,  6.8330e-01,  8.2660e-01,  8.2900e-02,  2.8864e+00],\n",
       "       [-1.0000e+00,  4.3530e-01, -1.4066e+00,  4.2070e-01, -4.8790e-01],\n",
       "       [-1.0000e+00, -1.0690e-01, -3.2329e+00,  1.8560e-01, -2.4572e+00],\n",
       "       [-1.0000e+00,  4.6620e-01,  6.2610e-01,  7.3040e-01,  3.4370e+00],\n",
       "       [-1.0000e+00,  8.2980e-01, -1.4089e+00,  3.1190e-01,  1.3235e+00]])"
      ]
     },
     "execution_count": 19,
     "metadata": {},
     "output_type": "execute_result"
    }
   ],
   "source": [
    "x, d = load_csv('../../datasets/valvula.csv')\n",
    "df_d = pd.Series(d, name='d')\n",
    "x"
   ]
  },
  {
   "cell_type": "code",
   "execution_count": 16,
   "metadata": {},
   "outputs": [
    {
     "name": "stdout",
     "output_type": "stream",
     "text": [
      "[[0.43568512 0.21746554 0.55448849 0.3705819 ]] [[-2.52973996  1.51101274  2.36731125 -0.65810815]] 324\n"
     ]
    },
    {
     "data": {
      "text/plain": [
       "array([ True,  True,  True,  True,  True,  True,  True,  True,  True,\n",
       "       False,  True,  True,  True,  True,  True,  True,  True, False,\n",
       "        True,  True,  True,  True,  True, False,  True,  True,  True,\n",
       "        True,  True, False])"
      ]
     },
     "execution_count": 16,
     "metadata": {},
     "output_type": "execute_result"
    }
   ],
   "source": [
    "i_w, f_w, ep = train_adaline(x, d, e=10**-3)\n",
    "print(i_w, f_w, ep)\n",
    "test_adaline(x, f_w) == d"
   ]
  },
  {
   "cell_type": "code",
   "execution_count": 68,
   "metadata": {
    "scrolled": true
   },
   "outputs": [
    {
     "name": "stdout",
     "output_type": "stream",
     "text": [
      "Training 1 - 418 epochs\n",
      "Initial weights: [[0.24394912 0.06925139 0.54511994 0.36482102]]\n",
      "Final weights: [[-3.11605088  1.57216539  2.49771594 -0.74240898]]\n",
      "\n",
      "Training 2 - 455 epochs\n",
      "Initial weights: [[0.80987081 0.93672274 0.469408   0.94248695]]\n",
      "Final weights: [[-3.17012919  1.56648674  2.55856    -0.75697505]]\n",
      "\n",
      "Training 3 - 434 epochs\n",
      "Initial weights: [[0.92826204 0.72040465 0.12597186 0.23730693]]\n",
      "Final weights: [[-3.09173796  1.56373665  2.49663186 -0.73612707]]\n",
      "\n",
      "Training 4 - 400 epochs\n",
      "Initial weights: [[0.3916246  0.04650943 0.44252502 0.79853097]]\n",
      "Final weights: [[-3.0483754   1.54772343  2.46295902 -0.72888703]]\n",
      "\n",
      "Training 5 - 433 epochs\n",
      "Initial weights: [[0.2676866  0.63051339 0.65205756 0.3681343 ]]\n",
      "Final weights: [[-3.1123134   1.57879939  2.50643956 -0.7415137 ]]\n",
      "\n"
     ]
    }
   ],
   "source": [
    "for i in range(1, 6):\n",
    "  initial_w, w, epochs = train_perceptron(x, d, n=.01)\n",
    "  print('Training {} - {} epochs\\nInitial weights: {}\\nFinal weights: {}\\n'.format(i, epochs, initial_w, w))"
   ]
  },
  {
   "cell_type": "code",
   "execution_count": 5,
   "metadata": {},
   "outputs": [],
   "source": [
    "initial_weights = np.array([[0.24394912,0.06925139,0.54511994,0.36482102],\n",
    "                            [0.80987081,0.93672274,0.469408,0.94248695],\n",
    "                            [0.92826204,0.72040465,0.12597186,0.23730693],\n",
    "                            [0.3916246,0.04650943,0.44252502,0.79853097],\n",
    "                            [0.2676866,0.63051339,0.65205756,0.3681343]])"
   ]
  },
  {
   "cell_type": "code",
   "execution_count": 6,
   "metadata": {},
   "outputs": [],
   "source": [
    "trained_weights = np.array([[-3.11605088,1.57216539,2.49771594,-0.74240898],\n",
    "                           [-3.17012919,1.56648674,2.55856,-0.75697505],\n",
    "                           [-3.09173796,1.56373665,2.49663186,-0.73612707],\n",
    "                           [-3.0483754,1.54772343,2.46295902,-0.72888703],\n",
    "                           [-3.1123134,1.57879939,2.50643956,-0.7415137]])"
   ]
  },
  {
   "cell_type": "code",
   "execution_count": 230,
   "metadata": {},
   "outputs": [
    {
     "data": {
      "text/plain": [
       "array([[-1.    , -0.3665,  0.062 ,  5.9891],\n",
       "       [-1.    , -0.7842,  1.1267,  5.5912],\n",
       "       [-1.    ,  0.3012,  0.5611,  5.8234],\n",
       "       [-1.    ,  0.7757,  1.0648,  8.0677],\n",
       "       [-1.    ,  0.157 ,  0.8028,  6.304 ],\n",
       "       [-1.    , -0.7014,  1.0316,  3.6005],\n",
       "       [-1.    ,  0.3748,  0.1536,  6.1537],\n",
       "       [-1.    , -0.692 ,  0.9404,  4.4058],\n",
       "       [-1.    , -1.397 ,  0.7141,  4.9263],\n",
       "       [-1.    , -1.8842, -0.2805,  1.2548]])"
      ]
     },
     "execution_count": 230,
     "metadata": {},
     "output_type": "execute_result"
    }
   ],
   "source": [
    "inputs = pd.read_csv('../../datasets/petroleo2.csv').to_numpy()\n",
    "inputs"
   ]
  },
  {
   "cell_type": "code",
   "execution_count": 229,
   "metadata": {},
   "outputs": [
    {
     "data": {
      "text/html": [
       "<div>\n",
       "<style scoped>\n",
       "    .dataframe tbody tr th:only-of-type {\n",
       "        vertical-align: middle;\n",
       "    }\n",
       "\n",
       "    .dataframe tbody tr th {\n",
       "        vertical-align: top;\n",
       "    }\n",
       "\n",
       "    .dataframe thead th {\n",
       "        text-align: right;\n",
       "    }\n",
       "</style>\n",
       "<table border=\"1\" class=\"dataframe\">\n",
       "  <thead>\n",
       "    <tr style=\"text-align: right;\">\n",
       "      <th></th>\n",
       "      <th>y1</th>\n",
       "      <th>y2</th>\n",
       "      <th>y3</th>\n",
       "      <th>y4</th>\n",
       "      <th>y5</th>\n",
       "    </tr>\n",
       "  </thead>\n",
       "  <tbody>\n",
       "    <tr>\n",
       "      <td>0</td>\n",
       "      <td>-1</td>\n",
       "      <td>-1</td>\n",
       "      <td>-1</td>\n",
       "      <td>-1</td>\n",
       "      <td>-1</td>\n",
       "    </tr>\n",
       "    <tr>\n",
       "      <td>1</td>\n",
       "      <td>1</td>\n",
       "      <td>1</td>\n",
       "      <td>1</td>\n",
       "      <td>1</td>\n",
       "      <td>1</td>\n",
       "    </tr>\n",
       "    <tr>\n",
       "      <td>2</td>\n",
       "      <td>1</td>\n",
       "      <td>1</td>\n",
       "      <td>1</td>\n",
       "      <td>1</td>\n",
       "      <td>1</td>\n",
       "    </tr>\n",
       "    <tr>\n",
       "      <td>3</td>\n",
       "      <td>1</td>\n",
       "      <td>1</td>\n",
       "      <td>1</td>\n",
       "      <td>1</td>\n",
       "      <td>1</td>\n",
       "    </tr>\n",
       "    <tr>\n",
       "      <td>4</td>\n",
       "      <td>1</td>\n",
       "      <td>1</td>\n",
       "      <td>1</td>\n",
       "      <td>1</td>\n",
       "      <td>1</td>\n",
       "    </tr>\n",
       "    <tr>\n",
       "      <td>5</td>\n",
       "      <td>1</td>\n",
       "      <td>1</td>\n",
       "      <td>1</td>\n",
       "      <td>1</td>\n",
       "      <td>1</td>\n",
       "    </tr>\n",
       "    <tr>\n",
       "      <td>6</td>\n",
       "      <td>-1</td>\n",
       "      <td>-1</td>\n",
       "      <td>-1</td>\n",
       "      <td>-1</td>\n",
       "      <td>-1</td>\n",
       "    </tr>\n",
       "    <tr>\n",
       "      <td>7</td>\n",
       "      <td>1</td>\n",
       "      <td>1</td>\n",
       "      <td>1</td>\n",
       "      <td>1</td>\n",
       "      <td>1</td>\n",
       "    </tr>\n",
       "    <tr>\n",
       "      <td>8</td>\n",
       "      <td>-1</td>\n",
       "      <td>-1</td>\n",
       "      <td>-1</td>\n",
       "      <td>-1</td>\n",
       "      <td>-1</td>\n",
       "    </tr>\n",
       "    <tr>\n",
       "      <td>9</td>\n",
       "      <td>-1</td>\n",
       "      <td>-1</td>\n",
       "      <td>-1</td>\n",
       "      <td>-1</td>\n",
       "      <td>-1</td>\n",
       "    </tr>\n",
       "  </tbody>\n",
       "</table>\n",
       "</div>"
      ],
      "text/plain": [
       "   y1  y2  y3  y4  y5\n",
       "0  -1  -1  -1  -1  -1\n",
       "1   1   1   1   1   1\n",
       "2   1   1   1   1   1\n",
       "3   1   1   1   1   1\n",
       "4   1   1   1   1   1\n",
       "5   1   1   1   1   1\n",
       "6  -1  -1  -1  -1  -1\n",
       "7   1   1   1   1   1\n",
       "8  -1  -1  -1  -1  -1\n",
       "9  -1  -1  -1  -1  -1"
      ]
     },
     "execution_count": 229,
     "metadata": {},
     "output_type": "execute_result"
    }
   ],
   "source": [
    "results = pd.DataFrame(\n",
    "  {'y' + str(i + 1):\n",
    "   test_perceptron(inputs, trained_weights[i])\n",
    "   for i in range(5)}\n",
    ")\n",
    "results"
   ]
  }
 ],
 "metadata": {
  "kernelspec": {
   "display_name": "Python 3",
   "language": "python",
   "name": "python3"
  },
  "language_info": {
   "codemirror_mode": {
    "name": "ipython",
    "version": 3
   },
   "file_extension": ".py",
   "mimetype": "text/x-python",
   "name": "python",
   "nbconvert_exporter": "python",
   "pygments_lexer": "ipython3",
   "version": "3.7.4"
  }
 },
 "nbformat": 4,
 "nbformat_minor": 4
}
